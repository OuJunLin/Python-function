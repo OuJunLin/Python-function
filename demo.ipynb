{
 "cells": [
  {
   "cell_type": "markdown",
   "metadata": {},
   "source": [
    "## 1. 只執行指令的函式"
   ]
  },
  {
   "cell_type": "code",
   "execution_count": 1,
   "metadata": {},
   "outputs": [
    {
     "name": "stdout",
     "output_type": "stream",
     "text": [
      "Hello World\n"
     ]
    }
   ],
   "source": [
    "def printHelloWold():\n",
    "    print(\"Hello World\")\n",
    "\n",
    "printHelloWold()"
   ]
  },
  {
   "cell_type": "markdown",
   "metadata": {},
   "source": [
    "## 2.輸入值給函式"
   ]
  },
  {
   "cell_type": "code",
   "execution_count": 2,
   "metadata": {},
   "outputs": [
    {
     "name": "stdout",
     "output_type": "stream",
     "text": [
      "---------\n",
      "------------\n",
      "---------------\n"
     ]
    }
   ],
   "source": [
    "def printsep(n):\n",
    "    print(\"---\" * n)\n",
    "    \n",
    "printsep(3)\n",
    "printsep(4)\n",
    "printsep(5)"
   ]
  },
  {
   "cell_type": "markdown",
   "metadata": {},
   "source": [
    "## 3. return"
   ]
  },
  {
   "cell_type": "code",
   "execution_count": 3,
   "metadata": {},
   "outputs": [
    {
     "name": "stdout",
     "output_type": "stream",
     "text": [
      "3\n"
     ]
    }
   ],
   "source": [
    "a, b = map(int, input().split())\n",
    "\n",
    "def add(m, n):\n",
    "   return m + n\n",
    "\n",
    "print(add(a, b))"
   ]
  },
  {
   "cell_type": "markdown",
   "metadata": {},
   "source": [
    "## 範例1 :\n",
    "\n",
    "## 輸入兩個整數，輸出 $C(M, N)$"
   ]
  },
  {
   "cell_type": "code",
   "execution_count": 4,
   "metadata": {},
   "outputs": [
    {
     "name": "stdout",
     "output_type": "stream",
     "text": [
      "15\n"
     ]
    }
   ],
   "source": [
    "m, n = map(int, input().split())\n",
    "\n",
    "def factorial(n):\n",
    "    result = 1\n",
    "    for i in range(1, n+1):\n",
    "        result *= i\n",
    "    \n",
    "    return result\n",
    "\n",
    "\n",
    "\n",
    "if m > n:\n",
    "    print(\"{:.0f}\" .format(factorial(m)/(factorial(n)*factorial(m-n))))\n",
    "else:\n",
    "    print(\"input error\")"
   ]
  },
  {
   "cell_type": "markdown",
   "metadata": {},
   "source": [
    "## 也可以將計算 $C(M, N)$ 的部分包裝成一個函式"
   ]
  },
  {
   "cell_type": "code",
   "execution_count": 5,
   "metadata": {},
   "outputs": [
    {
     "name": "stdout",
     "output_type": "stream",
     "text": [
      "15\n"
     ]
    }
   ],
   "source": [
    "m, n = map(int, input().split())\n",
    "\n",
    "def factorial(n):\n",
    "    result = 1\n",
    "    \n",
    "    for i in range(1, n+1):\n",
    "        result *= i\n",
    "    \n",
    "    return result\n",
    "\n",
    "\n",
    "\n",
    "def combination(m, n):\n",
    "    return factorial(m)/(factorial(n)*factorial(m-n))\n",
    "\n",
    "\n",
    "\n",
    "if m > n:\n",
    "    print(\"{:.0f}\" .format(combination(m, n)))\n",
    "else:\n",
    "    print(\"input error\")"
   ]
  },
  {
   "cell_type": "markdown",
   "metadata": {},
   "source": [
    "## 範例2 :\n",
    "\n",
    "## 輸入 5 個數值，從這 5 個數值中分別找出最大和最小值"
   ]
  },
  {
   "cell_type": "code",
   "execution_count": 6,
   "metadata": {},
   "outputs": [
    {
     "name": "stdout",
     "output_type": "stream",
     "text": [
      "(5, 1) <class 'tuple'>\n"
     ]
    }
   ],
   "source": [
    "num = [int(v) for v in input().split()]\n",
    "\n",
    "def findMaxMin(num_list):\n",
    "    max_val = num_list[0]-1\n",
    "    min_val = num_list[0]+1\n",
    "    \n",
    "    for v in num_list:\n",
    "       max_val = max(max_val, v)  \n",
    "       min_val = min(min_val, v)\n",
    "    \n",
    "    return  max_val,  min_val\n",
    "\n",
    "\n",
    "\n",
    "print(findMaxMin(num), type(findMaxMin(num)))"
   ]
  }
 ],
 "metadata": {
  "kernelspec": {
   "display_name": "Python 3.10.6 64-bit",
   "language": "python",
   "name": "python3"
  },
  "language_info": {
   "codemirror_mode": {
    "name": "ipython",
    "version": 3
   },
   "file_extension": ".py",
   "mimetype": "text/x-python",
   "name": "python",
   "nbconvert_exporter": "python",
   "pygments_lexer": "ipython3",
   "version": "3.10.6"
  },
  "orig_nbformat": 4,
  "vscode": {
   "interpreter": {
    "hash": "fb4569285eef3a3450cb62085a5b1e0da4bce0af555edc33dcf29baf3acc1368"
   }
  }
 },
 "nbformat": 4,
 "nbformat_minor": 2
}
